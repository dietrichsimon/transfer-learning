{
 "cells": [
  {
   "cell_type": "markdown",
   "metadata": {},
   "source": [
    "# Cats vs dogs kaggle challenge"
   ]
  },
  {
   "cell_type": "code",
   "execution_count": 1,
   "metadata": {},
   "outputs": [],
   "source": [
    "# preprocessing\n",
    "from tensorflow.keras.preprocessing import image\n",
    "from tensorflow.keras import preprocessing\n",
    "\n",
    "# categorical\n",
    "from tensorflow.keras.utils import to_categorical\n",
    "\n",
    "# model\n",
    "from tensorflow.keras.models import Sequential\n",
    "\n",
    "# layers\n",
    "from tensorflow.keras.layers import Conv2D, MaxPool2D, Activation, Flatten, Dense, BatchNormalization, Dropout\n",
    "\n",
    "# callbacks\n",
    "from tensorflow.keras.callbacks import EarlyStopping\n",
    "\n",
    "# backend\n",
    "from tensorflow.keras import backend as K\n",
    "\n",
    "# other\n",
    "import os\n",
    "import matplotlib.pyplot as plt\n",
    "import numpy as np\n",
    "import cv2\n",
    "from sklearn.model_selection import train_test_split"
   ]
  },
  {
   "cell_type": "markdown",
   "metadata": {},
   "source": [
    "### Reading in data"
   ]
  },
  {
   "cell_type": "code",
   "execution_count": 2,
   "metadata": {},
   "outputs": [],
   "source": [
    "def prep_data(path, img_dim, total_pics=1_000):\n",
    "    X = []\n",
    "    y = []\n",
    "    count = 0\n",
    "    \n",
    "    for p in os.listdir(path):\n",
    "        count += 1\n",
    "        category = p.split(\".\")[0]\n",
    "        img = image.load_img(path+p, target_size=(img_dim, img_dim))\n",
    "        img_array = image.img_to_array(img)\n",
    "        img_array = img_array.astype(np.uint8)\n",
    "        X.append(img_array)\n",
    "        if category == 'dog':\n",
    "            y.append(1)\n",
    "        else:\n",
    "            y.append(0)\n",
    "        if count >= total_pics:\n",
    "            break\n",
    "    X_array = np.array(X)\n",
    "    y_array = np.array(y)\n",
    "    return X_array, y_array"
   ]
  },
  {
   "cell_type": "code",
   "execution_count": 5,
   "metadata": {},
   "outputs": [],
   "source": [
    "img_dim = 61\n",
    "path = \"data/train/\"\n",
    "X, y = prep_data(path, img_dim, total_pics=10_000)"
   ]
  },
  {
   "cell_type": "code",
   "execution_count": 6,
   "metadata": {},
   "outputs": [
    {
     "data": {
      "text/plain": [
       "((10000, 61, 61, 3), (10000,))"
      ]
     },
     "execution_count": 6,
     "metadata": {},
     "output_type": "execute_result"
    }
   ],
   "source": [
    "X.shape, y.shape"
   ]
  },
  {
   "cell_type": "code",
   "execution_count": 7,
   "metadata": {},
   "outputs": [
    {
     "data": {
      "text/plain": [
       "0"
      ]
     },
     "execution_count": 7,
     "metadata": {},
     "output_type": "execute_result"
    },
    {
     "data": {
      "image/png": "[encoded data removed]",
      "text/plain": [
       "<Figure size 432x288 with 1 Axes>"
      ]
     },
     "metadata": {
      "needs_background": "light"
     },
     "output_type": "display_data"
    }
   ],
   "source": [
    "check = 33\n",
    "plt.imshow(X[check])\n",
    "y[check]"
   ]
  },
  {
   "cell_type": "code",
   "execution_count": 8,
   "metadata": {},
   "outputs": [
    {
     "data": {
      "text/plain": [
       "5000"
      ]
     },
     "execution_count": 8,
     "metadata": {},
     "output_type": "execute_result"
    }
   ],
   "source": [
    "sum(y)"
   ]
  },
  {
   "cell_type": "markdown",
   "metadata": {},
   "source": [
    "### Preprocessing"
   ]
  },
  {
   "cell_type": "code",
   "execution_count": 9,
   "metadata": {},
   "outputs": [],
   "source": [
    "# reshape data\n",
    "y = y.reshape(y.shape + (1,))"
   ]
  },
  {
   "cell_type": "code",
   "execution_count": 10,
   "metadata": {},
   "outputs": [],
   "source": [
    "# normalize the data\n",
    "X = X/255 "
   ]
  },
  {
   "cell_type": "code",
   "execution_count": 11,
   "metadata": {},
   "outputs": [
    {
     "data": {
      "text/plain": [
       "((10000, 61, 61, 3), (10000, 1))"
      ]
     },
     "execution_count": 11,
     "metadata": {},
     "output_type": "execute_result"
    }
   ],
   "source": [
    "X.shape, y.shape"
   ]
  },
  {
   "cell_type": "code",
   "execution_count": 12,
   "metadata": {},
   "outputs": [
    {
     "data": {
      "text/plain": [
       "dtype('float64')"
      ]
     },
     "execution_count": 12,
     "metadata": {},
     "output_type": "execute_result"
    }
   ],
   "source": [
    "X.dtype"
   ]
  },
  {
   "cell_type": "code",
   "execution_count": 13,
   "metadata": {},
   "outputs": [
    {
     "data": {
      "text/plain": [
       "(1.0, 0.0)"
      ]
     },
     "execution_count": 13,
     "metadata": {},
     "output_type": "execute_result"
    }
   ],
   "source": [
    "X.max(), X.min()"
   ]
  },
  {
   "cell_type": "markdown",
   "metadata": {},
   "source": [
    "### Train-test split"
   ]
  },
  {
   "cell_type": "code",
   "execution_count": 14,
   "metadata": {},
   "outputs": [
    {
     "data": {
      "text/plain": [
       "((8000, 61, 61, 3), (2000, 61, 61, 3), (8000, 1), (2000, 1))"
      ]
     },
     "execution_count": 14,
     "metadata": {},
     "output_type": "execute_result"
    }
   ],
   "source": [
    "X_train, X_val, y_train, y_val = train_test_split(X, y, test_size=0.2, random_state=42)\n",
    "X_train.shape, X_val.shape, y_train.shape, y_val.shape"
   ]
  },
  {
   "cell_type": "markdown",
   "metadata": {},
   "source": [
    "### Define plotting functions"
   ]
  },
  {
   "cell_type": "code",
   "execution_count": 15,
   "metadata": {},
   "outputs": [],
   "source": [
    "# summarize history for accuracy\n",
    "def plot_accuracy(history):\n",
    "    plt.plot(history.history['accuracy'])\n",
    "    plt.plot(history.history['val_accuracy'])\n",
    "    plt.title('model accuracy')\n",
    "    plt.ylabel('accuracy')\n",
    "    plt.xlabel('epoch')\n",
    "    plt.legend(['train', 'test'], loc='upper left')\n",
    "    plt.show()"
   ]
  },
  {
   "cell_type": "code",
   "execution_count": 16,
   "metadata": {},
   "outputs": [],
   "source": [
    "# summarize history for loss\n",
    "def plot_loss(history):\n",
    "    plt.plot(history.history['loss'])\n",
    "    plt.plot(history.history['val_loss'])\n",
    "    plt.title('model loss')\n",
    "    plt.ylabel('loss')\n",
    "    plt.xlabel('epoch')\n",
    "    plt.legend(['train', 'test'], loc='upper left')\n",
    "    plt.show()"
   ]
  },
  {
   "cell_type": "markdown",
   "metadata": {},
   "source": [
    "### Build the model"
   ]
  },
  {
   "cell_type": "code",
   "execution_count": 17,
   "metadata": {},
   "outputs": [],
   "source": [
    "K.clear_session()"
   ]
  },
  {
   "cell_type": "code",
   "execution_count": 18,
   "metadata": {},
   "outputs": [],
   "source": [
    "# define the model\n",
    "model = Sequential([\n",
    "    # First convolutional layer\n",
    "    Conv2D(filters=32, kernel_size=(3, 3), padding='same', \n",
    "           input_shape=(img_dim, img_dim, 3)),\n",
    "    MaxPool2D(pool_size=(2,2)),\n",
    "    BatchNormalization(),\n",
    "    Dropout(0.2), \n",
    "    Activation('relu'),\n",
    "    \n",
    "    # Second convolutional layer\n",
    "    Conv2D(filters=64, kernel_size=(3, 3), padding='same'),\n",
    "    MaxPool2D(pool_size=(2,2)),\n",
    "    BatchNormalization(),\n",
    "    Dropout(0.2), \n",
    "    Activation('relu'), \n",
    "    \n",
    "    # Flattening \n",
    "    Flatten(),\n",
    "    \n",
    "    # Output layer\n",
    "    Dense(1), Activation('sigmoid')\n",
    "])"
   ]
  },
  {
   "cell_type": "code",
   "execution_count": 19,
   "metadata": {},
   "outputs": [
    {
     "name": "stdout",
     "output_type": "stream",
     "text": [
      "Model: \"sequential\"\n",
      "_________________________________________________________________\n",
      "Layer (type)                 Output Shape              Param #   \n",
      "=================================================================\n",
      "conv2d (Conv2D)              (None, 61, 61, 32)        896       \n",
      "_________________________________________________________________\n",
      "max_pooling2d (MaxPooling2D) (None, 30, 30, 32)        0         \n",
      "_________________________________________________________________\n",
      "batch_normalization (BatchNo (None, 30, 30, 32)        128       \n",
      "_________________________________________________________________\n",
      "dropout (Dropout)            (None, 30, 30, 32)        0         \n",
      "_________________________________________________________________\n",
      "activation (Activation)      (None, 30, 30, 32)        0         \n",
      "_________________________________________________________________\n",
      "conv2d_1 (Conv2D)            (None, 30, 30, 64)        18496     \n",
      "_________________________________________________________________\n",
      "max_pooling2d_1 (MaxPooling2 (None, 15, 15, 64)        0         \n",
      "_________________________________________________________________\n",
      "batch_normalization_1 (Batch (None, 15, 15, 64)        256       \n",
      "_________________________________________________________________\n",
      "dropout_1 (Dropout)          (None, 15, 15, 64)        0         \n",
      "_________________________________________________________________\n",
      "activation_1 (Activation)    (None, 15, 15, 64)        0         \n",
      "_________________________________________________________________\n",
      "flatten (Flatten)            (None, 14400)             0         \n",
      "_________________________________________________________________\n",
      "dense (Dense)                (None, 1)                 14401     \n",
      "_________________________________________________________________\n",
      "activation_2 (Activation)    (None, 1)                 0         \n",
      "=================================================================\n",
      "Total params: 34,177\n",
      "Trainable params: 33,985\n",
      "Non-trainable params: 192\n",
      "_________________________________________________________________\n"
     ]
    }
   ],
   "source": [
    "model.summary()"
   ]
  },
  {
   "cell_type": "code",
   "execution_count": 20,
   "metadata": {},
   "outputs": [],
   "source": [
    "# compile the model\n",
    "model.compile(optimizer='adam',\n",
    "              loss='binary_crossentropy',\n",
    "              metrics=['accuracy']\n",
    ")"
   ]
  },
  {
   "cell_type": "markdown",
   "metadata": {},
   "source": [
    "### Fit the model"
   ]
  },
  {
   "cell_type": "code",
   "execution_count": 21,
   "metadata": {},
   "outputs": [
    {
     "name": "stdout",
     "output_type": "stream",
     "text": [
      "Epoch 1/20\n",
      "26/26 [==============================] - 44s 2s/step - loss: 0.8516 - accuracy: 0.5820 - val_loss: 0.6907 - val_accuracy: 0.5481\n",
      "Epoch 2/20\n",
      "26/26 [==============================] - 42s 2s/step - loss: 0.6468 - accuracy: 0.6484 - val_loss: 0.6903 - val_accuracy: 0.5394\n",
      "Epoch 3/20\n",
      "26/26 [==============================] - 42s 2s/step - loss: 0.6012 - accuracy: 0.6830 - val_loss: 0.6887 - val_accuracy: 0.5219\n",
      "Epoch 4/20\n",
      "26/26 [==============================] - 45s 2s/step - loss: 0.5903 - accuracy: 0.6963 - val_loss: 0.6844 - val_accuracy: 0.5462\n",
      "Epoch 5/20\n",
      "26/26 [==============================] - 42s 2s/step - loss: 0.5655 - accuracy: 0.7116 - val_loss: 0.6778 - val_accuracy: 0.5781\n",
      "Epoch 6/20\n",
      "26/26 [==============================] - 35s 1s/step - loss: 0.5688 - accuracy: 0.7114 - val_loss: 0.6746 - val_accuracy: 0.5775\n",
      "Epoch 7/20\n",
      "26/26 [==============================] - 36s 1s/step - loss: 0.5593 - accuracy: 0.7052 - val_loss: 0.7016 - val_accuracy: 0.5156\n",
      "Epoch 8/20\n",
      "26/26 [==============================] - 36s 1s/step - loss: 0.5506 - accuracy: 0.7206 - val_loss: 0.7552 - val_accuracy: 0.5056\n",
      "Epoch 9/20\n",
      "26/26 [==============================] - 37s 1s/step - loss: 0.5380 - accuracy: 0.7230 - val_loss: 0.7568 - val_accuracy: 0.5100\n",
      "Epoch 10/20\n",
      "26/26 [==============================] - 42s 2s/step - loss: 0.5506 - accuracy: 0.7192 - val_loss: 0.8049 - val_accuracy: 0.5138\n",
      "Epoch 11/20\n",
      "26/26 [==============================] - 40s 2s/step - loss: 0.5335 - accuracy: 0.7320 - val_loss: 0.8124 - val_accuracy: 0.5225\n",
      "Epoch 12/20\n",
      "26/26 [==============================] - 37s 1s/step - loss: 0.5412 - accuracy: 0.7233 - val_loss: 1.1001 - val_accuracy: 0.5100\n",
      "Epoch 13/20\n",
      "26/26 [==============================] - 37s 1s/step - loss: 0.5563 - accuracy: 0.7155 - val_loss: 1.0611 - val_accuracy: 0.5150\n",
      "Epoch 14/20\n",
      "26/26 [==============================] - 36s 1s/step - loss: 0.5545 - accuracy: 0.7150 - val_loss: 0.7782 - val_accuracy: 0.5625\n",
      "Epoch 15/20\n",
      "26/26 [==============================] - 39s 2s/step - loss: 0.5917 - accuracy: 0.6992 - val_loss: 0.8818 - val_accuracy: 0.5494\n",
      "Epoch 16/20\n",
      "26/26 [==============================] - 38s 1s/step - loss: 0.5896 - accuracy: 0.6964 - val_loss: 0.7825 - val_accuracy: 0.5756\n",
      "Epoch 17/20\n",
      "26/26 [==============================] - 38s 1s/step - loss: 0.5708 - accuracy: 0.7078 - val_loss: 0.9184 - val_accuracy: 0.5256\n",
      "Epoch 18/20\n",
      "26/26 [==============================] - 37s 1s/step - loss: 0.5667 - accuracy: 0.7080 - val_loss: 1.0056 - val_accuracy: 0.5238\n",
      "Epoch 19/20\n",
      "26/26 [==============================] - 38s 1s/step - loss: 0.5658 - accuracy: 0.7119 - val_loss: 0.9522 - val_accuracy: 0.5394\n",
      "Epoch 20/20\n",
      "26/26 [==============================] - 38s 1s/step - loss: 0.5672 - accuracy: 0.7128 - val_loss: 0.9782 - val_accuracy: 0.5663\n"
     ]
    }
   ],
   "source": [
    "# fit the model\n",
    "history = model.fit(x=X_train,\n",
    "                    y=y_train,\n",
    "                    batch_size=250,\n",
    "                    epochs=20, \n",
    "                    validation_split=0.2,\n",
    ")"
   ]
  },
  {
   "cell_type": "markdown",
   "metadata": {},
   "source": [
    "### Plot loss and accuracy"
   ]
  },
  {
   "cell_type": "code",
   "execution_count": 132,
   "metadata": {},
   "outputs": [
    {
     "data": {
      "image/png": "[encoded data removed]",
      "text/plain": [
       "<Figure size 432x288 with 1 Axes>"
      ]
     },
     "metadata": {
      "needs_background": "light"
     },
     "output_type": "display_data"
    }
   ],
   "source": [
    "plot_loss(history)"
   ]
  },
  {
   "cell_type": "code",
   "execution_count": 133,
   "metadata": {},
   "outputs": [
    {
     "data": {
      "image/png": "[encoded data removed]",
      "text/plain": [
       "<Figure size 432x288 with 1 Axes>"
      ]
     },
     "metadata": {
      "needs_background": "light"
     },
     "output_type": "display_data"
    }
   ],
   "source": [
    "plot_accuracy(history)"
   ]
  },
  {
   "cell_type": "code",
   "execution_count": 22,
   "metadata": {},
   "outputs": [
    {
     "name": "stdout",
     "output_type": "stream",
     "text": [
      "63/63 [==============================] - 1s 23ms/step - loss: 0.9254 - accuracy: 0.5745\n"
     ]
    },
    {
     "data": {
      "text/plain": [
       "[0.9254117608070374, 0.5745000243186951]"
      ]
     },
     "execution_count": 22,
     "metadata": {},
     "output_type": "execute_result"
    }
   ],
   "source": [
    "model.evaluate(X_val, y_val)"
   ]
  }
 ],
 "metadata": {
  "kernelspec": {
   "display_name": "Python 3",
   "language": "python",
   "name": "python3"
  },
  "language_info": {
   "codemirror_mode": {
    "name": "ipython",
    "version": 3
   },
   "file_extension": ".py",
   "mimetype": "text/x-python",
   "name": "python",
   "nbconvert_exporter": "python",
   "pygments_lexer": "ipython3",
   "version": "3.7.7"
  }
 },
 "nbformat": 4,
 "nbformat_minor": 4
}
